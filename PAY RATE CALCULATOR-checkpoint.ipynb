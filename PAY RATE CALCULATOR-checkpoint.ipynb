{
 "cells": [
  {
   "cell_type": "raw",
   "id": "88bde5ac",
   "metadata": {},
   "source": [
    "#QUESTION\n",
    "\n",
    "# Say you are helping a friend to calculate their weekly paycheck after taxes.\n",
    "\n",
    "- They're in a 8% tax bracket (in other words, 8% of their salary is taken for taxes, and they only take home 92%), and\n",
    "\n",
    "- They're paid monthly, at a rate of $27,500/month.\n",
    "\n",
    "- Create a calculator to be used for 2 - 6 months period\n",
    "\n"
   ]
  },
  {
   "cell_type": "code",
   "execution_count": 1,
   "id": "c1fc6f77",
   "metadata": {},
   "outputs": [],
   "source": [
    " def pay_check_calculator ():   \n",
    "    full_name = input('What is your Full Name?:' )\n",
    "    hour_per_week = int(input('How many hours do you work per week?:' ))\n",
    "    hourly_pay = float(input('How much are you paid per hour?:' ))\n",
    "    tax_rate = float(input('What is your company tax rate?:' ))\n",
    "    num_weeks = int(input('How many weeks do you wish to calculate for?:' ))\n",
    "    pay_pretax = hour_per_week * hourly_pay\n",
    "    pay_after_tax_week = pay_pretax - tax_rate\n",
    "    pay_after_tax_weeks = pay_after_tax_week * num_weeks\n",
    "\n",
    "    return print(f\"\\n\\nHello {full_name} \\nyour weekly paycheck after tax is {pay_after_tax_week} \\nyour paycheck for {num_weeks} weeks after tax is {pay_after_tax_weeks}\")"
   ]
  },
  {
   "cell_type": "code",
   "execution_count": 2,
   "id": "30fe5541",
   "metadata": {},
   "outputs": [
    {
     "name": "stdout",
     "output_type": "stream",
     "text": [
      "What is your Full Name?:Glory Umoren\n",
      "How many hours do you work per week?:20\n",
      "How much are you paid per hour?:343.75\n",
      "What is your company tax rate?:0.12\n",
      "How many weeks do you wish to calculate for?:8\n",
      "\n",
      "\n",
      "Hello Glory Umoren \n",
      "your weekly paycheck after tax is 6874.88 \n",
      "your paycheck for 8 weeks after tax is 54999.04\n"
     ]
    }
   ],
   "source": [
    "pay_check_calculator ()"
   ]
  },
  {
   "cell_type": "code",
   "execution_count": null,
   "id": "c2c81ebe",
   "metadata": {},
   "outputs": [],
   "source": []
  }
 ],
 "metadata": {
  "kernelspec": {
   "display_name": "Python 3 (ipykernel)",
   "language": "python",
   "name": "python3"
  },
  "language_info": {
   "codemirror_mode": {
    "name": "ipython",
    "version": 3
   },
   "file_extension": ".py",
   "mimetype": "text/x-python",
   "name": "python",
   "nbconvert_exporter": "python",
   "pygments_lexer": "ipython3",
   "version": "3.9.12"
  }
 },
 "nbformat": 4,
 "nbformat_minor": 5
}
